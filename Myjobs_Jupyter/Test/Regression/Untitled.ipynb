{
 "cells": [
  {
   "cell_type": "code",
   "execution_count": 13,
   "metadata": {},
   "outputs": [
    {
     "name": "stderr",
     "output_type": "stream",
     "text": [
      "Bioconductor version 3.9 (BiocManager 1.30.4), R 3.6.0 (2019-04-26)\n",
      "Installing package(s) 'caret'\n",
      "also installing the dependencies ‘numDeriv’, ‘SQUAREM’, ‘lava’, ‘prodlim’, ‘generics’, ‘gower’, ‘ipred’, ‘lubridate’, ‘timeDate’, ‘ModelMetrics’, ‘recipes’\n",
      "\n",
      "Updating HTML index of packages in '.Library'\n",
      "Making 'packages.html' ... done\n",
      "Update old packages: 'AnnotationDbi', 'backports', 'BH', 'bibtex',\n",
      "  'BiocManager', 'BiocParallel', 'blob', 'boot', 'callr', 'cli', 'clipr',\n",
      "  'curl', 'data.table', 'DBI', 'devtools', 'digest', 'doMC', 'doParallel',\n",
      "  'dplyr', 'DT', 'farver', 'feather', 'fgsea', 'foreach', 'foreign',\n",
      "  'GenomicRanges', 'ggforce', 'ggplot2', 'ggraph', 'git2r', 'hdf5r', 'hexbin',\n",
      "  'hms', 'htmltools', 'htmlwidgets', 'httpuv', 'httr', 'igraph', 'IRanges',\n",
      "  'IRkernel', 'iterators', 'KernSmooth', 'knitr', 'lambda.r', 'later',\n",
      "  'markdown', 'MASS', 'Matrix', 'matrixStats', 'mgcv', 'mime', 'nlme',\n",
      "  'openssl', 'pillar', 'pkgbuild', 'pkgconfig', 'plyr', 'processx', 'promises',\n",
      "  'purrr', 'R.oo', 'R.utils', 'R6', 'Rcpp', 'RcppEigen', 'repr', 'rlang',\n",
      "  'rmarkdown', 'rngtools', 'RSQLite', 'rvcheck', 'S4Vectors', 'scales',\n",
      "  'segmented', 'shiny', 'SummarizedExperiment', 'survival', 'sys', 'tidyr',\n",
      "  'tinytex', 'usethis', 'vctrs', 'whisker', 'xfun'\n"
     ]
    }
   ],
   "source": [
    "BiocManager::install(\"caret\")"
   ]
  },
  {
   "cell_type": "code",
   "execution_count": 1,
   "metadata": {},
   "outputs": [
    {
     "name": "stderr",
     "output_type": "stream",
     "text": [
      "also installing the dependency ‘shape’\n",
      "\n",
      "Updating HTML index of packages in '.Library'\n",
      "Making 'packages.html' ... done\n"
     ]
    }
   ],
   "source": [
    "install.packages(\"glmnet\")\n"
   ]
  },
  {
   "cell_type": "code",
   "execution_count": 2,
   "metadata": {},
   "outputs": [
    {
     "name": "stderr",
     "output_type": "stream",
     "text": [
      "Loading required package: Matrix\n",
      "Loaded glmnet 3.0-2\n",
      "\n"
     ]
    }
   ],
   "source": [
    "library(\"glmnet\")"
   ]
  },
  {
   "cell_type": "code",
   "execution_count": 3,
   "metadata": {},
   "outputs": [],
   "source": [
    "# Loaging the library\n",
    "library(glmnet)\n",
    "\n",
    "# Loading the data\n",
    "data(swiss)"
   ]
  },
  {
   "cell_type": "code",
   "execution_count": 10,
   "metadata": {},
   "outputs": [],
   "source": [
    "x_vars <- model.matrix(Fertility~. , swiss)[,-1]\n",
    "y_var <- swiss$Fertility\n",
    "data <- cbind(x_vars,y_var)"
   ]
  },
  {
   "cell_type": "code",
   "execution_count": 11,
   "metadata": {},
   "outputs": [
    {
     "data": {
      "text/html": [
       "<ol class=list-inline>\n",
       "\t<li>32</li>\n",
       "\t<li>6</li>\n",
       "</ol>\n"
      ],
      "text/latex": [
       "\\begin{enumerate*}\n",
       "\\item 32\n",
       "\\item 6\n",
       "\\end{enumerate*}\n"
      ],
      "text/markdown": [
       "1. 32\n",
       "2. 6\n",
       "\n",
       "\n"
      ],
      "text/plain": [
       "[1] 32  6"
      ]
     },
     "metadata": {},
     "output_type": "display_data"
    },
    {
     "data": {
      "text/html": [
       "<ol class=list-inline>\n",
       "\t<li>15</li>\n",
       "\t<li>6</li>\n",
       "</ol>\n"
      ],
      "text/latex": [
       "\\begin{enumerate*}\n",
       "\\item 15\n",
       "\\item 6\n",
       "\\end{enumerate*}\n"
      ],
      "text/markdown": [
       "1. 15\n",
       "2. 6\n",
       "\n",
       "\n"
      ],
      "text/plain": [
       "[1] 15  6"
      ]
     },
     "metadata": {},
     "output_type": "display_data"
    }
   ],
   "source": [
    "# Splitting the data into test and train\n",
    "set.seed(100) \n",
    "\n",
    "index = sample(1:nrow(data), 0.7*nrow(data)) \n",
    "\n",
    "train = data[index,] # Create the training data \n",
    "test = data[-index,] # Create the test data\n",
    "\n",
    "dim(train)\n",
    "dim(test)"
   ]
  },
  {
   "cell_type": "code",
   "execution_count": 14,
   "metadata": {},
   "outputs": [
    {
     "name": "stderr",
     "output_type": "stream",
     "text": [
      "Loading required package: lattice\n",
      "Loading required package: ggplot2\n"
     ]
    },
    {
     "data": {
      "text/plain": [
       "  Agriculture       Examination        Education          Catholic      \n",
       " Min.   :-2.2213   Min.   :-1.7346   Min.   :-0.9900   Min.   :-0.9511  \n",
       " 1st Qu.:-0.6269   1st Qu.:-0.5992   1st Qu.:-0.3808   1st Qu.:-0.8720  \n",
       " Median : 0.3423   Median :-0.1577   Median :-0.1954   Median :-0.6622  \n",
       " Mean   : 0.0000   Mean   : 0.0000   Mean   : 0.0000   Mean   : 0.0000  \n",
       " 3rd Qu.: 0.6961   3rd Qu.: 0.6623   3rd Qu.: 0.1755   3rd Qu.: 1.2005  \n",
       " Max.   : 1.4559   Max.   : 2.5545   Max.   : 4.5197   Max.   : 1.3381  \n",
       " Infant.Mortality       y_var      \n",
       " Min.   :-2.79571   Min.   :35.00  \n",
       " 1st Qu.:-0.62106   1st Qu.:65.08  \n",
       " Median : 0.04342   Median :69.65  \n",
       " Mean   : 0.00000   Mean   :70.86  \n",
       " 3rd Qu.: 0.71545   3rd Qu.:79.33  \n",
       " Max.   : 1.97644   Max.   :92.40  "
      ]
     },
     "metadata": {},
     "output_type": "display_data"
    }
   ],
   "source": [
    "#### Scaling the Numeric Features\n",
    "library(caret)\n",
    "cols = c(\"Agriculture\", \"Examination\", \"Education\", \"Catholic\", \"Infant.Mortality\")\n",
    "\n",
    "pre_proc_val <- preProcess(train[,cols], method = c(\"center\", \"scale\"))\n",
    "\n",
    "train[,cols] = predict(pre_proc_val, train[,cols])\n",
    "test[,cols] = predict(pre_proc_val, test[,cols])\n",
    "train <- as.data.frame(train)\n",
    "summary(train)\n"
   ]
  },
  {
   "cell_type": "code",
   "execution_count": 15,
   "metadata": {},
   "outputs": [
    {
     "data": {
      "text/html": [
       "<ol class=list-inline>\n",
       "\t<li>32</li>\n",
       "\t<li>6</li>\n",
       "</ol>\n"
      ],
      "text/latex": [
       "\\begin{enumerate*}\n",
       "\\item 32\n",
       "\\item 6\n",
       "\\end{enumerate*}\n"
      ],
      "text/markdown": [
       "1. 32\n",
       "2. 6\n",
       "\n",
       "\n"
      ],
      "text/plain": [
       "[1] 32  6"
      ]
     },
     "metadata": {},
     "output_type": "display_data"
    },
    {
     "data": {
      "text/html": [
       "<ol class=list-inline>\n",
       "\t<li>15</li>\n",
       "\t<li>6</li>\n",
       "</ol>\n"
      ],
      "text/latex": [
       "\\begin{enumerate*}\n",
       "\\item 15\n",
       "\\item 6\n",
       "\\end{enumerate*}\n"
      ],
      "text/markdown": [
       "1. 15\n",
       "2. 6\n",
       "\n",
       "\n"
      ],
      "text/plain": [
       "[1] 15  6"
      ]
     },
     "metadata": {},
     "output_type": "display_data"
    },
    {
     "data": {
      "text/plain": [
       "  Agriculture       Examination        Education          Catholic      \n",
       " Min.   :-2.2213   Min.   :-1.7346   Min.   :-0.9900   Min.   :-0.9511  \n",
       " 1st Qu.:-0.6269   1st Qu.:-0.5992   1st Qu.:-0.3808   1st Qu.:-0.8720  \n",
       " Median : 0.3423   Median :-0.1577   Median :-0.1954   Median :-0.6622  \n",
       " Mean   : 0.0000   Mean   : 0.0000   Mean   : 0.0000   Mean   : 0.0000  \n",
       " 3rd Qu.: 0.6961   3rd Qu.: 0.6623   3rd Qu.: 0.1755   3rd Qu.: 1.2005  \n",
       " Max.   : 1.4559   Max.   : 2.5545   Max.   : 4.5197   Max.   : 1.3381  \n",
       " Infant.Mortality       y_var      \n",
       " Min.   :-2.79571   Min.   :35.00  \n",
       " 1st Qu.:-0.62106   1st Qu.:65.08  \n",
       " Median : 0.04342   Median :69.65  \n",
       " Mean   : 0.00000   Mean   :70.86  \n",
       " 3rd Qu.: 0.71545   3rd Qu.:79.33  \n",
       " Max.   : 1.97644   Max.   :92.40  "
      ]
     },
     "metadata": {},
     "output_type": "display_data"
    },
    {
     "data": {
      "text/plain": [
       "\n",
       "Call:\n",
       "lm(formula = y_var ~ Agriculture + Examination + Education + \n",
       "    Catholic + Infant.Mortality, data = train)\n",
       "\n",
       "Residuals:\n",
       "     Min       1Q   Median       3Q      Max \n",
       "-11.3846  -4.1908   0.3243   3.2284  12.3039 \n",
       "\n",
       "Coefficients:\n",
       "                 Estimate Std. Error t value Pr(>|t|)    \n",
       "(Intercept)        70.859      1.163  60.927  < 2e-16 ***\n",
       "Agriculture        -1.965      1.855  -1.059  0.29921    \n",
       "Examination        -1.280      2.547  -0.503  0.61947    \n",
       "Education          -6.933      1.983  -3.496  0.00171 ** \n",
       "Catholic            5.336      1.684   3.168  0.00390 ** \n",
       "Infant.Mortality    2.590      1.263   2.051  0.05049 .  \n",
       "---\n",
       "Signif. codes:  0 ‘***’ 0.001 ‘**’ 0.01 ‘*’ 0.05 ‘.’ 0.1 ‘ ’ 1\n",
       "\n",
       "Residual standard error: 6.579 on 26 degrees of freedom\n",
       "Multiple R-squared:  0.7471,\tAdjusted R-squared:  0.6984 \n",
       "F-statistic: 15.36 on 5 and 26 DF,  p-value: 4.695e-07\n"
      ]
     },
     "metadata": {},
     "output_type": "display_data"
    }
   ],
   "source": [
    "# Splitting the data into test and train\n",
    "set.seed(100) \n",
    "\n",
    "index = sample(1:nrow(data), 0.7*nrow(data)) \n",
    "\n",
    "train = data[index,] # Create the training data \n",
    "test = data[-index,] # Create the test data\n",
    "\n",
    "dim(train)\n",
    "dim(test)\n",
    "#### Scaling the Numeric Features\n",
    "library(caret)\n",
    "cols = c(\"Agriculture\", \"Examination\", \"Education\", \"Catholic\", \"Infant.Mortality\")\n",
    "\n",
    "pre_proc_val <- preProcess(train[,cols], method = c(\"center\", \"scale\"))\n",
    "\n",
    "train[,cols] = predict(pre_proc_val, train[,cols])\n",
    "test[,cols] = predict(pre_proc_val, test[,cols])\n",
    "train <- as.data.frame(train)\n",
    "summary(train)\n",
    "## Linear Regression\n",
    "lr = lm(y_var ~ Agriculture + Examination + Education + Catholic + Infant.Mortality, data = train)\n",
    "summary(lr)"
   ]
  },
  {
   "cell_type": "code",
   "execution_count": 16,
   "metadata": {},
   "outputs": [
    {
     "name": "stdout",
     "output_type": "stream",
     "text": [
      "[1] 32  5\n",
      "[1] 15  5\n"
     ]
    }
   ],
   "source": [
    "####### Regularization ############\n",
    "cols_reg = c(\"Agriculture\", \"Examination\", \"Education\", \"Catholic\", \"Infant.Mortality\", \"y_var\")\n",
    "\n",
    "dummies <- dummyVars(y_var ~ ., data = data[,cols_reg])\n",
    "\n",
    "train_dummies = predict(dummies, newdata = train[,cols_reg])\n",
    "\n",
    "test_dummies = predict(dummies, newdata = test[,cols_reg])\n",
    "\n",
    "print(dim(train_dummies)); print(dim(test_dummies))"
   ]
  },
  {
   "cell_type": "code",
   "execution_count": 18,
   "metadata": {},
   "outputs": [
    {
     "ename": "ERROR",
     "evalue": "Error in test$y_var: $ operator is invalid for atomic vectors\n",
     "output_type": "error",
     "traceback": [
      "Error in test$y_var: $ operator is invalid for atomic vectors\nTraceback:\n"
     ]
    }
   ],
   "source": [
    "### Ridge Regression\n",
    "library(\"glmnet\")\n",
    "\n",
    "x = as.matrix(train_dummies)\n",
    "y_train = train$y_var\n",
    "\n",
    "x_test = as.matrix(test_dummies)\n",
    "y_test = test$y_var\n",
    "\n",
    "lambdas <- 10^seq(2, -3, by = -.1)\n",
    "ridge_reg = glmnet(x, y_train, nlambda = 25, alpha = 0, family = 'gaussian', lambda = lambdas)\n",
    "\n",
    "summary(ridge_reg)"
   ]
  }
 ],
 "metadata": {
  "kernelspec": {
   "display_name": "R 3.6.0",
   "language": "R",
   "name": "ir360"
  },
  "language_info": {
   "codemirror_mode": "r",
   "file_extension": ".r",
   "mimetype": "text/x-r-source",
   "name": "R",
   "pygments_lexer": "r",
   "version": "3.6.0"
  }
 },
 "nbformat": 4,
 "nbformat_minor": 2
}
