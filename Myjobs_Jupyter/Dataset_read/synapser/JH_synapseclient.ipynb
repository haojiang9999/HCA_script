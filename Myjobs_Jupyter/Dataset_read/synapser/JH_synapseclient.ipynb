{
 "cells": [
  {
   "cell_type": "code",
   "execution_count": 10,
   "metadata": {},
   "outputs": [
    {
     "name": "stdout",
     "output_type": "stream",
     "text": [
      "Welcome, haojiang9999@gmail.com!\n",
      "\n"
     ]
    }
   ],
   "source": [
    " import synapseclient \n",
    " import synapseutils \n",
    " \n",
    " syn = synapseclient.Synapse() \n",
    " syn.login('haojiang9999@gmail.com','jh12345678') "
   ]
  },
  {
   "cell_type": "code",
   "execution_count": 14,
   "metadata": {},
   "outputs": [],
   "source": [
    "## set the saving folder\n"
   ]
  },
  {
   "cell_type": "code",
   "execution_count": null,
   "metadata": {},
   "outputs": [],
   "source": [
    "# Download syn2623706\n",
    "files = synapseutils.syncFromSynapse(syn, 'syn2623706', path='/stor/jianghao/Synapse') "
   ]
  },
  {
   "cell_type": "code",
   "execution_count": 5,
   "metadata": {},
   "outputs": [],
   "source": [
    " import synapseclient \n",
    " import synapseutils "
   ]
  }
 ],
 "metadata": {
  "kernelspec": {
   "display_name": "Python 3",
   "language": "python",
   "name": "python3"
  },
  "language_info": {
   "codemirror_mode": {
    "name": "ipython",
    "version": 3
   },
   "file_extension": ".py",
   "mimetype": "text/x-python",
   "name": "python",
   "nbconvert_exporter": "python",
   "pygments_lexer": "ipython3",
   "version": "3.6.5"
  }
 },
 "nbformat": 4,
 "nbformat_minor": 2
}
