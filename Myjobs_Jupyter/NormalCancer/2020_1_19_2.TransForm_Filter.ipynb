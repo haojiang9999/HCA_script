{
 "cells": [
  {
   "cell_type": "markdown",
   "metadata": {},
   "source": [
    "# Read the Step1 build scReference table"
   ]
  },
  {
   "cell_type": "code",
   "execution_count": 1,
   "metadata": {},
   "outputs": [],
   "source": [
    "#### Read the Step1 build scReference table\n",
    "Tang.Adult.colon.ref <- readRDS(\"/data8t_4/JH/MyJobs/Normal_cell_reference/Step1_Normal_cell_reference_panel_construction/Tang.Adult.colon.ref.rds\")\n",
    "Tang.Fetal.GI.ref <- readRDS(\"/data8t_4/JH/MyJobs/Normal_cell_reference/Step1_Normal_cell_reference_panel_construction/Tang.Fetal.GI.ref.rds\")\n",
    "Tang.Normal.embryo.ref <- readRDS(\"/data8t_4/JH/MyJobs/Normal_cell_reference/Step1_Normal_cell_reference_panel_construction/Tang.Normal.embryo.ref.rds\")\n",
    "Lanner.Preim.embryo.ref <- readRDS(\"/data8t_4/JH/MyJobs/Normal_cell_reference/Step1_Normal_cell_reference_panel_construction/Lanner.Preim.embryo.ref.rds\")\n"
   ]
  },
  {
   "cell_type": "code",
   "execution_count": 2,
   "metadata": {},
   "outputs": [],
   "source": [
    "#### Build_scReference_list_Version2\n",
    "scReference.list <- list(Tang.Adult.colon = Tang.Adult.colon.ref,\n",
    "                         Tang.Fetal.GI = Tang.Fetal.GI.ref,\n",
    "                         Tang.Normal.embryo = Tang.Normal.embryo.ref,\n",
    "                         Lanner.Preim.embryo = Lanner.Preim.embryo.ref)\n"
   ]
  },
  {
   "cell_type": "code",
   "execution_count": 3,
   "metadata": {},
   "outputs": [],
   "source": [
    "#### Step1.log10(x+1) transformed\n",
    "scReference.list.log10<- lapply(scReference.list, function(x){\n",
    "  log10.x <- log10(x+1)\n",
    "  return(log10.x)\n",
    "})\n"
   ]
  },
  {
   "cell_type": "code",
   "execution_count": 4,
   "metadata": {},
   "outputs": [],
   "source": [
    "### Step2.Filter gene by high varience\n",
    "source(\"/data8t_4/JH/MyJobs/1_R_script/FUN_TopCV.R\")\n",
    "scReference.list.log10.CV8000 <- lapply(scReference.list.log10, function(x){\n",
    "  TopCV(x, TopN = 8000, MARGIN = 1)\n",
    "})\n",
    "scReference.list.log10.CV4000 <- lapply(scReference.list.log10, function(x){\n",
    "  TopCV(x, TopN = 4000, MARGIN = 1)\n",
    "})\n",
    "scReference.list.log10.CV2000 <- lapply(scReference.list.log10, function(x){\n",
    "  TopCV(x, TopN = 2000, MARGIN = 1)\n",
    "})\n",
    "scReference.list.log10.CV1500 <- lapply(scReference.list.log10, function(x){\n",
    "  TopCV(x, TopN = 1500, MARGIN = 1)\n",
    "})\n",
    "scReference.list.log10.CV1000 <- lapply(scReference.list.log10, function(x){\n",
    "  TopCV(x, TopN = 1000, MARGIN = 1)\n",
    "})\n"
   ]
  },
  {
   "cell_type": "code",
   "execution_count": 5,
   "metadata": {},
   "outputs": [],
   "source": [
    "scReference.log10.CV <- list(scReference.list.log10 = scReference.list.log10, \n",
    "                             scReference.list.log10.CV8000 = scReference.list.log10.CV8000,\n",
    "                             scReference.list.log10.CV4000 = scReference.list.log10.CV4000, \n",
    "                             scReference.list.log10.CV2000 = scReference.list.log10.CV2000,\n",
    "                             scReference.list.log10.CV1500 = scReference.list.log10.CV1500, \n",
    "                             scReference.list.log10.CV1000 = scReference.list.log10.CV1000)\n"
   ]
  },
  {
   "cell_type": "code",
   "execution_count": null,
   "metadata": {},
   "outputs": [],
   "source": [
    "head(scReference.log10.CV)"
   ]
  }
 ],
 "metadata": {
  "kernelspec": {
   "display_name": "R 3.5.1",
   "language": "R",
   "name": "ir35"
  },
  "language_info": {
   "codemirror_mode": "r",
   "file_extension": ".r",
   "mimetype": "text/x-r-source",
   "name": "R",
   "pygments_lexer": "r",
   "version": "3.5.1"
  }
 },
 "nbformat": 4,
 "nbformat_minor": 2
}
