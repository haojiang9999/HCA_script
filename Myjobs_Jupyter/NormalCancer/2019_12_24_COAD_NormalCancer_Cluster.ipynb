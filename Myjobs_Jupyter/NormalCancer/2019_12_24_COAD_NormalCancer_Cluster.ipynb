{
 "cells": [
  {
   "cell_type": "markdown",
   "metadata": {},
   "source": [
    "#### Step1 read data"
   ]
  },
  {
   "cell_type": "code",
   "execution_count": null,
   "metadata": {},
   "outputs": [],
   "source": [
    "#### read TCGA_COAD data ####\n",
    "COAD_UCSC_Toil_tpm_dataset <- readRDS(\"/data8t_4/JH/MyJobs/Read_dataset/UCSC_Toil/COAD_UCSC_Toil_tpm_dataset.rds\")\n",
    "COAD_RSEM_gene_tpm <- COAD_UCSC_Toil_tpm_dataset$COAD.RSEM.gene.tpm\n",
    "gencode.v23.annotation <- COAD_UCSC_Toil_tpm_dataset$gencode.v23.annotation\n",
    "COAD.pheno <- COAD_UCSC_Toil_tpm_dataset$COAD.pheno\n",
    "head(gencode.v23.annotation)\n",
    "## convert ensembleID to symbol \n",
    "geneMatch <- match(rownames(COAD_RSEM_gene_tpm),gencode.v23.annotation$V1)\n",
    "geneSymbol <- as.character(gencode.v23.annotation[geneMatch,]$V2)\n",
    "COAD_tpm_symbol <- COAD_RSEM_gene_tpm\n",
    "rownames(COAD_tpm_symbol) <- geneSymbol\n",
    "head(COAD_tpm_symbol)\n",
    "\n",
    "### Phenotype Update\n",
    "### Seperate the Normal and Tumor samples\n",
    "sampleID<- as.character(COAD.pheno$sample)\n",
    "table(unlist(lapply(strsplit(sampleID,\"-\"), '[[', 4)))\n",
    "sampleTypes <- unlist(lapply(strsplit(sampleID,\"-\"), '[[', 4))\n",
    "sampleTypes[sampleTypes==\"01\"]<- \"Tumor\"\n",
    "sampleTypes[sampleTypes==\"11\"]<- \"Nomal\"\n",
    "COAD.pheno <- cbind(COAD.pheno , sampleTypes)\n"
   ]
  }
 ],
 "metadata": {
  "kernelspec": {
   "display_name": "R 3.5.1",
   "language": "R",
   "name": "ir35"
  },
  "language_info": {
   "codemirror_mode": "r",
   "file_extension": ".r",
   "mimetype": "text/x-r-source",
   "name": "R",
   "pygments_lexer": "r",
   "version": "3.5.1"
  }
 },
 "nbformat": 4,
 "nbformat_minor": 2
}
