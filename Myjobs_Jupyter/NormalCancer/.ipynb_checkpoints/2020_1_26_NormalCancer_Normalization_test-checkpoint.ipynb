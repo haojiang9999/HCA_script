{
 "cells": [
  {
   "cell_type": "code",
   "execution_count": null,
   "metadata": {},
   "outputs": [],
   "source": [
    "#### read TCGA_COAD data ####\n",
    "COAD_UCSC_Toil_tpm_dataset <- readRDS(\"/data8t_4/JH/MyJobs/Read_dataset/UCSC_Toil/COAD_UCSC_Toil_tpm_dataset.rds\")\n",
    "COAD_RSEM_gene_tpm <- COAD_UCSC_Toil_tpm_dataset$COAD.RSEM.gene.tpm\n",
    "gencode.v23.annotation <- COAD_UCSC_Toil_tpm_dataset$gencode.v23.annotation\n",
    "COAD.pheno <- COAD_UCSC_Toil_tpm_dataset$COAD.pheno\n",
    "#head(gencode.v23.annotation)\n",
    "## convert ensembleID to symbol \n",
    "geneMatch <- match(rownames(COAD_RSEM_gene_tpm),gencode.v23.annotation$V1)\n",
    "geneSymbol <- as.character(gencode.v23.annotation[geneMatch,]$V2)\n",
    "COAD_tpm_symbol <- COAD_RSEM_gene_tpm\n",
    "rownames(COAD_tpm_symbol) <- geneSymbol\n",
    "#head(COAD_tpm_symbol)\n",
    "\n",
    "### Phenotype Update\n",
    "### Seperate the Normal and Tumor samples\n",
    "sampleID<- as.character(COAD.pheno$sample)\n",
    "table(unlist(lapply(strsplit(sampleID,\"-\"), '[[', 4)))\n",
    "sampleTypes <- unlist(lapply(strsplit(sampleID,\"-\"), '[[', 4))\n",
    "sampleTypes[sampleTypes==\"01\"]<- \"Tumor\"\n",
    "sampleTypes[sampleTypes==\"11\"]<- \"Nomal\"\n",
    "COAD.pheno <- cbind(COAD.pheno , sampleTypes)\n",
    "### Distance calculation\n",
    "##### Distance calculation \n",
    "source(\"/data8t_4/JH/MyJobs/1_R_script/NormalCancer/refCorMerge.R\")\n",
    "### \n",
    "##### Transform COAD data\n",
    "summary(colSums(COAD_tpm_symbol)) ### So its not log2 transformed\n",
    "# Expression data transformation Log(x+1)\n",
    "Log10.expList <- list(COAD_tpm_symbol = log10(COAD_tpm_symbol+1))\n",
    "Cor.Res.CV8000 <- refCorMerge(Log10.expList, scReference.list.log10.CV8000)\n",
    "Cor.Res.CV4000 <- refCorMerge(Log10.expList, scReference.list.log10.CV4000)\n",
    "Cor.Res.CV3000 <- refCorMerge(Log10.expList, scReference.list.log10.CV3000)\n",
    "Cor.Res.CV2500 <- refCorMerge(Log10.expList, scReference.list.log10.CV2500)\n",
    "Cor.Res.CV2000 <- refCorMerge(Log10.expList, scReference.list.log10.CV2000)\n",
    "Cor.Res.CV1500 <- refCorMerge(Log10.expList, scReference.list.log10.CV1500)\n",
    "Cor.Res.CV1000 <- refCorMerge(Log10.expList, scReference.list.log10.CV1000)\n",
    "### Find tumor samples\n",
    "### only tumor samples\n",
    "TumorID <- rownames(COAD.pheno[COAD.pheno$sampleTypes == \"Tumor\",])\n",
    "Pheno.merged.tumor <- COAD.pheno[TumorID,c(\"sampleTypes\",\"histological_type\")]\n"
   ]
  },
  {
   "cell_type": "code",
   "execution_count": null,
   "metadata": {},
   "outputs": [],
   "source": []
  }
 ],
 "metadata": {
  "kernelspec": {
   "display_name": "R 3.5.1",
   "language": "R",
   "name": "ir35"
  },
  "language_info": {
   "codemirror_mode": "r",
   "file_extension": ".r",
   "mimetype": "text/x-r-source",
   "name": "R",
   "pygments_lexer": "r",
   "version": "3.5.1"
  }
 },
 "nbformat": 4,
 "nbformat_minor": 2
}
